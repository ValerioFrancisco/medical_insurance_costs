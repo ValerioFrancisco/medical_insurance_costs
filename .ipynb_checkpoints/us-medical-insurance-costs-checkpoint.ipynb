{
 "cells": [
  {
   "cell_type": "markdown",
   "metadata": {},
   "source": [
    "# U.S. Medical Insurance Costs"
   ]
  },
  {
   "cell_type": "markdown",
   "metadata": {},
   "source": [
    "*The scope of this project is to evaluate the data and the impact of it on the costs*"
   ]
  },
  {
   "cell_type": "markdown",
   "metadata": {},
   "source": [
    "For now, I am going to use the csv module and matplotlib to load and display the data"
   ]
  },
  {
   "cell_type": "code",
   "execution_count": 3,
   "metadata": {},
   "outputs": [],
   "source": [
    "import csv\n",
    "import matplotlib.pyplot as plt\n",
    "\n",
    "# keep the dataset filename in a global for easy to use.\n",
    "filename = 'insurance.csv'"
   ]
  },
  {
   "cell_type": "markdown",
   "metadata": {},
   "source": [
    "Now, I create some lists to hold the dataset values:"
   ]
  },
  {
   "cell_type": "code",
   "execution_count": 4,
   "metadata": {},
   "outputs": [],
   "source": [
    "age = []\n",
    "sex = []\n",
    "bmi = []\n",
    "children = []\n",
    "smoker = []\n",
    "region = []\n",
    "charges = []"
   ]
  },
  {
   "cell_type": "markdown",
   "metadata": {},
   "source": [
    "Now I need to load the data using csv"
   ]
  },
  {
   "cell_type": "code",
   "execution_count": 15,
   "metadata": {
    "scrolled": false
   },
   "outputs": [],
   "source": [
    "def load_data(csv_data_file):\n",
    "    with open(csv_data_file, newline='') as csv_file:\n",
    "        reader = csv.DictReader(csv_file)\n",
    "        for row in reader:\n",
    "            age.append(int(row['age']))\n",
    "            sex.append(row['sex'])\n",
    "            bmi.append(float(row['bmi']))\n",
    "            children.append(int(row['children']))\n",
    "            smoker.append(row['smoker'])\n",
    "            region.append(row['region'])\n",
    "            charges.append(float(row['charges']))\n",
    "\n",
    "load_data(filename)"
   ]
  },
  {
   "cell_type": "markdown",
   "metadata": {},
   "source": [
    "Now, I can make an analisys of the data:"
   ]
  },
  {
   "cell_type": "code",
   "execution_count": 22,
   "metadata": {
    "scrolled": true
   },
   "outputs": [
    {
     "name": "stdout",
     "output_type": "stream",
     "text": [
      "The age average is 39.21\n",
      "The bmi average is 30.66\n",
      "The charges average is 13270.42\n",
      "There are 2704 males and 2648 females in the sample\n"
     ]
    }
   ],
   "source": [
    "def average(lst):\n",
    "    return sum(lst) / len(lst)\n",
    "print(f'The age average is {round(average(age), 2)}')\n",
    "print(f'The bmi average is {round(average(bmi), 2)}')\n",
    "print(f'The charges average is {round(average(charges), 2)}')\n",
    "males = sex.count('male')\n",
    "females = sex.count('female')\n",
    "print(f'There are {males} males and {females} females in the sample')"
   ]
  }
 ],
 "metadata": {
  "kernelspec": {
   "display_name": "Python 3 (ipykernel)",
   "language": "python",
   "name": "python3"
  },
  "language_info": {
   "codemirror_mode": {
    "name": "ipython",
    "version": 3
   },
   "file_extension": ".py",
   "mimetype": "text/x-python",
   "name": "python",
   "nbconvert_exporter": "python",
   "pygments_lexer": "ipython3",
   "version": "3.9.6"
  }
 },
 "nbformat": 4,
 "nbformat_minor": 4
}
